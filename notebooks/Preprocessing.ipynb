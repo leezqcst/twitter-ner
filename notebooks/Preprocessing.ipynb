{
 "cells": [
  {
   "cell_type": "code",
   "execution_count": 1,
   "metadata": {
    "collapsed": true
   },
   "outputs": [],
   "source": [
    "text = \"Input text looks something like this. I thinkso...\""
   ]
  },
  {
   "cell_type": "code",
   "execution_count": 3,
   "metadata": {
    "collapsed": false
   },
   "outputs": [],
   "source": [
    "from twokenize import tokenize"
   ]
  },
  {
   "cell_type": "code",
   "execution_count": 4,
   "metadata": {
    "collapsed": false
   },
   "outputs": [
    {
     "name": "stdout",
     "output_type": "stream",
     "text": [
      "['Input', 'text', 'looks', 'something', 'like', 'this', '.', 'I', 'thinkso', '...']\n"
     ]
    }
   ],
   "source": [
    "print tokenize(text)"
   ]
  },
  {
   "cell_type": "code",
   "execution_count": 50,
   "metadata": {
    "collapsed": false
   },
   "outputs": [
    {
     "data": {
      "text/plain": [
       "[['__i', '_in', 'inp', 'npu', 'put', 'ut_', 't__'],\n",
       " ['__t', '_te', 'tex', 'ext', 'xt_', 't__']]"
      ]
     },
     "execution_count": 50,
     "metadata": {},
     "output_type": "execute_result"
    }
   ],
   "source": [
    "def chargram(token, n=3):\n",
    "    \"\"\" Convert word into character level ngrams.\n",
    "    \n",
    "    We pad both ends of the word with _ tokens on both ends for `wide` ngrams\n",
    "    \n",
    "    Eg:\n",
    "        \n",
    "        ['__i', '_in', 'inp', 'npu', 'put', 'ut_', 't__'] = str_to_char_ngrams('input', 3)\n",
    "    \"\"\"\n",
    "    token = '_'*(n-1) + token + '_'*(n-1)\n",
    "    chargram = []\n",
    "    for i in range(len(token[:-(n-1)])):\n",
    "        chargram.append(token[i:i+n])\n",
    "    return chargram\n",
    "\n",
    "def chargrams(tokens, n=3):\n",
    "    return [ chargram(token, n=n) for token in tokens ]\n",
    "chargrams(['input', 'text'])"
   ]
  },
  {
   "cell_type": "code",
   "execution_count": 136,
   "metadata": {
    "collapsed": false
   },
   "outputs": [],
   "source": [
    "from collections import Counter\n",
    "\n",
    "class Vocab():\n",
    "    def __init__(self, all_tokens=None, min_count=5):\n",
    "        self.min_count=min_count\n",
    "        self.count_index = Counter()\n",
    "        self._vocab2idx = {'<PAD>':0,\n",
    "                           '<UNK>':1}\n",
    "        self._idx2vocab = {0:'<PAD>',\n",
    "                           1:'<UNK>'}\n",
    "        self.vocabset = set(self._vocab2idx.keys())\n",
    "        self.idxset = set(self._idx2vocab.keys())\n",
    "        \n",
    "        if all_tokens:\n",
    "            self.use(all_tokens)\n",
    "        \n",
    "    @property\n",
    "    def n(self):\n",
    "        return sum( count for count in self.count_index.values() )\n",
    "    \n",
    "    @property\n",
    "    def pad(self):\n",
    "        return '<PAD>'\n",
    "    \n",
    "    @property\n",
    "    def ipad(self):\n",
    "        return 0\n",
    "    \n",
    "    def idx(self, token):\n",
    "        if token in self.vocabset:\n",
    "            return self._vocab2idx[token]\n",
    "        else:\n",
    "            return self._vocab2idx['<UNK>']\n",
    "        \n",
    "    def token(self, idx):\n",
    "        if idx in self.idxset:\n",
    "            return self._idx2vocab[idx]\n",
    "        else:\n",
    "            return self._idx2vocab['<UNK>']\n",
    "    \n",
    "    def use(self, tokens):\n",
    "        self.count_index = Counter()\n",
    "        self.add(tokens)        \n",
    "    \n",
    "    def add(self, tokens):\n",
    "        for token in tokens:\n",
    "            self.count_index[token] += 1\n",
    "        self._vocab2idx = {'<UNK>':0}\n",
    "        self._vocab2idx.update({token:i+1 for i, (token, count) in enumerate(self.count_index.most_common())\n",
    "                                if count >= self.min_count})\n",
    "        self._idx2vocab = {i:token for token, i in self._vocab2idx.items()}\n",
    "        self.vocabset = set(self._vocab2idx.keys())\n",
    "        self.idxset = set(self._idx2vocab.keys())\n",
    "        \n",
    "    def count(self, token):\n",
    "        return self.count_index[token]\n",
    "vocab = Vocab(min_count=1)"
   ]
  },
  {
   "cell_type": "code",
   "execution_count": 99,
   "metadata": {
    "collapsed": false
   },
   "outputs": [],
   "source": [
    "vocab.use(tokenize(text))"
   ]
  },
  {
   "cell_type": "code",
   "execution_count": 100,
   "metadata": {
    "collapsed": false
   },
   "outputs": [
    {
     "data": {
      "text/plain": [
       "10"
      ]
     },
     "execution_count": 100,
     "metadata": {},
     "output_type": "execute_result"
    }
   ],
   "source": [
    "vocab.n"
   ]
  },
  {
   "cell_type": "code",
   "execution_count": 101,
   "metadata": {
    "collapsed": false
   },
   "outputs": [
    {
     "data": {
      "text/plain": [
       "0"
      ]
     },
     "execution_count": 101,
     "metadata": {},
     "output_type": "execute_result"
    }
   ],
   "source": [
    "vocab.idx('a')"
   ]
  },
  {
   "cell_type": "code",
   "execution_count": 293,
   "metadata": {
    "collapsed": false
   },
   "outputs": [],
   "source": [
    "data_fname = '../data/wnut_ner_evaluation/data/train.tsv'\n",
    "xs, ys = [], []\n",
    "with open(data_fname, 'r') as f:\n",
    "    x, y = [], []\n",
    "    for i, line in enumerate(f):\n",
    "        split = line.split()\n",
    "        if split:\n",
    "            x.append(split[0])\n",
    "            y.append(split[1])\n",
    "        else: \n",
    "            xs.append(x)\n",
    "            ys.append(y)\n",
    "            x, y = [], []"
   ]
  },
  {
   "cell_type": "code",
   "execution_count": 297,
   "metadata": {
    "collapsed": false
   },
   "outputs": [],
   "source": [
    "all_chargrams = [ c for x in xs for g in chargrams(x) for c in g ]\n",
    "xvocab = Vocab(all_chargrams, min_count=0)\n",
    "yvocab = Vocab([l for y in ys for l in y ], min_count=0)"
   ]
  },
  {
   "cell_type": "code",
   "execution_count": 320,
   "metadata": {
    "collapsed": false
   },
   "outputs": [],
   "source": [
    "def pad_tensor(tensor, pad_symbol):\n",
    "    if not isinstance(tensor[0], (list,tuple)):\n",
    "        return tensor\n",
    "\n",
    "    \n",
    "    pad_len = max(len(sub_tensor) for sub_tensor in tensor)\n",
    "    tensor = type(tensor)([ type(sub_tensor)(pad_tensor(\n",
    "                                [element for element in sub_tensor]\n",
    "                                +[[pad_symbol]*pad_len]*(pad_len-len(sub_tensor)), pad_symbol))\n",
    "                            for sub_tensor in tensor])\n",
    "    return tensor\n",
    "\n",
    "def sentences_to_chargrams(sentences, vocab):\n",
    "    all_xs, all_ws = [], []\n",
    "    for sentence in sentences:\n",
    "        xs, ws = [], []\n",
    "        for token in sentence:\n",
    "            grams = chargram(token)\n",
    "            x = [ vocab.idx(cgram) for cgram in grams ]\n",
    "            w = [ 1 for cgram in grams ]\n",
    "            xs.append(x)\n",
    "            ws.append(w)\n",
    "        all_xs.append(xs)\n",
    "        all_ws.append(ws)\n",
    "    return all_xs, all_ws\n",
    "\n",
    "def pad_chargrams(sentences, ws, pad):\n",
    "    max_sent_len = max(len(sent) for sent in sentences)\n",
    "    max_word_len = max(len(word) for sent in sentences for word in sent)\n",
    "    padded_sentences, padded_ws = [], []\n",
    "    for sentence, weights in zip(sentences, ws):\n",
    "        padded_sentence = []\n",
    "        padded_weights = []\n",
    "        for token, weight in zip(sentence, weights):\n",
    "            token += [pad]*(max_word_len-len(token))\n",
    "            weight += [0]*(max_word_len-len(weight))\n",
    "            padded_sentence.append(token)\n",
    "            padded_weights.append(weight)\n",
    "        for _ in range(max_sent_len - len(sentence)):\n",
    "            padded_sentence.append([pad]*max_word_len)\n",
    "            padded_weights.append([0]*max_word_len)\n",
    "        padded_sentences.append(padded_sentence)\n",
    "        padded_ws.append(padded_weights)\n",
    "    return padded_sentences, padded_ws, max_sent_len, max_word_len\n",
    "\n",
    "def sentence_to_index(sentence, vocab):\n",
    "    return [ vocab.idx(token) for token in sentence ]\n",
    "\n",
    "def sentences_to_index(sentences, vocab):\n",
    "    return [ sentence_to_index(sentence, vocab) for sentence in sentences ]\n",
    "\n",
    "def pad_sentence(sentence, pad, pad_len):\n",
    "    return sentence + [pad]*(pad_len-len(sentence))\n",
    "\n",
    "def pad_sentences(sentences, pad):\n",
    "    pad_len = max(len(sentence) for sentence in sentences)\n",
    "    return [ pad_sentence(sentence, pad, pad_len) for sentence in sentences ]"
   ]
  },
  {
   "cell_type": "markdown",
   "metadata": {},
   "source": [
    "# Load actual data"
   ]
  },
  {
   "cell_type": "code",
   "execution_count": 322,
   "metadata": {
    "collapsed": false
   },
   "outputs": [
    {
     "name": "stdout",
     "output_type": "stream",
     "text": [
      "['BOS', '@SammieLynnsMom', '@tg10781', 'they', 'will', 'be', 'all', 'done', 'by', 'Sunday', 'trust', 'me', '*wink*', 'EOS']\n",
      "[[[8, 12, 13, 3, 2], [32, 625, 3218, 4378, 2475, 1963, 1936, 8165, 6838, 5779, 4474, 7934, 14081, 12166, 4716, 264, 58], [32, 1117, 10963, 16127, 12699, 4593, 8751, 13408, 4991, 464], [5, 24, 34, 458, 284, 7], [20, 136, 362, 176, 82, 35], [31, 92, 202, 1], [10, 224, 139, 82, 35], [42, 171, 434, 183, 150, 1], [31, 698, 531, 7], [84, 613, 801, 311, 467, 52, 40, 7], [5, 414, 1431, 1752, 189, 89, 4], [30, 172, 57, 1], [1157, 13844, 8824, 701, 470, 10548, 16553, 1156], [11, 15, 14, 3, 2]]]\n"
     ]
    }
   ],
   "source": [
    "print xs[0]\n",
    "train_xs, train_ws = sentences_to_chargrams(xs, xvocab)\n",
    "print train_xs[:1]\n",
    "train_xs, train_ws, max_sent_len, max_word_len = pad_chargrams(train_xs, train_ws, xvocab.ipad)\n",
    "train_ys = sentences_to_index(ys, yvocab)\n",
    "train_ys = pad_sentences(train_ys, yvocab.ipad)"
   ]
  },
  {
   "cell_type": "code",
   "execution_count": 445,
   "metadata": {
    "collapsed": false
   },
   "outputs": [
    {
     "name": "stdout",
     "output_type": "stream",
     "text": [
      "41 123\n",
      "[8, 12, 13, 3, 2, 0, 0, 0, 0, 0, 0, 0, 0, 0, 0, 0, 0, 0, 0, 0, 0, 0, 0, 0, 0, 0, 0, 0, 0, 0, 0, 0, 0, 0, 0, 0, 0, 0, 0, 0, 0, 0, 0, 0, 0, 0, 0, 0, 0, 0, 0, 0, 0, 0, 0, 0, 0, 0, 0, 0, 0, 0, 0, 0, 0, 0, 0, 0, 0, 0, 0, 0, 0, 0, 0, 0, 0, 0, 0, 0, 0, 0, 0, 0, 0, 0, 0, 0, 0, 0, 0, 0, 0, 0, 0, 0, 0, 0, 0, 0, 0, 0, 0, 0, 0, 0, 0, 0, 0, 0, 0, 0, 0, 0, 0, 0, 0, 0, 0, 0, 0, 0, 0]\n",
      "[1, 1, 1, 1, 1, 0, 0, 0, 0, 0, 0, 0, 0, 0, 0, 0, 0, 0, 0, 0, 0, 0, 0, 0, 0, 0, 0, 0, 0, 0, 0, 0, 0, 0, 0, 0, 0, 0, 0, 0, 0, 0, 0, 0, 0, 0, 0, 0, 0, 0, 0, 0, 0, 0, 0, 0, 0, 0, 0, 0, 0, 0, 0, 0, 0, 0, 0, 0, 0, 0, 0, 0, 0, 0, 0, 0, 0, 0, 0, 0, 0, 0, 0, 0, 0, 0, 0, 0, 0, 0, 0, 0, 0, 0, 0, 0, 0, 0, 0, 0, 0, 0, 0, 0, 0, 0, 0, 0, 0, 0, 0, 0, 0, 0, 0, 0, 0, 0, 0, 0, 0, 0, 0]\n",
      "[1, 1, 1, 1, 1, 1, 4, 1, 1, 1, 1, 1, 1, 1, 9, 8, 1, 1, 1, 1, 1, 1, 1, 1, 1, 1, 1, 1, 1, 1, 9, 8, 1, 1, 1, 0, 0, 0, 0, 0, 0]\n"
     ]
    }
   ],
   "source": [
    "print max_sent_len, max_word_len\n",
    "print train_xs[1][0]\n",
    "print train_ws[1][0]\n",
    "print train_ys[1]"
   ]
  },
  {
   "cell_type": "code",
   "execution_count": 456,
   "metadata": {
    "collapsed": true
   },
   "outputs": [],
   "source": [
    "import tensorflow as tf\n",
    "import random"
   ]
  },
  {
   "cell_type": "code",
   "execution_count": 453,
   "metadata": {
    "collapsed": false
   },
   "outputs": [],
   "source": [
    "class EntitySegmenter():\n",
    "    def __init__(self, session, **hyperparams):\n",
    "        print \"Model Loading...\",\n",
    "        self.hyperparams = hyperparams\n",
    "        for var, val in hyperparams.items():\n",
    "            setattr(self, var, val)\n",
    "        \n",
    "        self.manipulate_params()\n",
    "        self.build_forward()\n",
    "        self.build_loss()\n",
    "        self.build_optimizer()\n",
    "        \n",
    "        self.session = session\n",
    "        self.session.run(tf.initialize_all_variables())\n",
    "        print \"Done\"\n",
    "        \n",
    "    def manipulate_params(self):\n",
    "        pass\n",
    "    \n",
    "    def build_forward(self):\n",
    "        # inputs\n",
    "        self.x_input = tf.placeholder(tf.int32, [None, self.max_time, self.max_chargrams])\n",
    "        self.x_weight = tf.placeholder(tf.float32, [None, self.max_time, self.max_chargrams])\n",
    "        self.y_input = tf.placeholder(tf.int32, [None, self.max_time])\n",
    "        self.dropout_keep = tf.placeholder(tf.float32)\n",
    "        \n",
    "        # embed and take weighted sum of character grams as word embedding\n",
    "        self.chargram_vectors = tf.Variable(tf.random_uniform([self.xvocab.n, self.char_embed_size], \n",
    "                                                             -.1, .1, tf.float32))\n",
    "        self.embedded_chargrams = tf.nn.embedding_lookup(self.chargram_vectors, \n",
    "                                                         self.x_input)\n",
    "        tile_weights = tf.tile(tf.expand_dims(self.x_weight, [3]), [1,1,1,self.char_embed_size])\n",
    "        self.embedded_words = tf.reduce_sum(tile_weights * self.embedded_chargrams, [2])\n",
    "        \n",
    "    \n",
    "        # mlp\n",
    "        self.W = tf.Variable(tf.random_uniform([self.char_embed_size, self.yvocab.n], \n",
    "                                              -.1, .1, tf.float32))\n",
    "        self.b = tf.Variable(tf.zeros([self.yvocab.n]))\n",
    "        \n",
    "        logits = tf.matmul(tf.reshape(self.embedded_words, [-1, self.char_embed_size]), self.W) + self.b\n",
    "        self.logits = tf.reshape(logits, [-1, self.max_time, self.yvocab.n])\n",
    "        self.labels = tf.argmax(self.logits, 2)\n",
    "        \n",
    "    def build_loss(self):\n",
    "        word_weights = tf.minimum(tf.reduce_sum(self.x_weight, [2]), 1.)\n",
    "        # convert logits to lists\n",
    "        logits_list = [tf.squeeze(t, [1]) for t in tf.split(1, self.max_time, self.logits)]\n",
    "        targets_list = [tf.squeeze(t, [1]) for t in tf.split(1, self.max_time, self.y_input)]\n",
    "        weights_list = [tf.squeeze(t, [1]) for t in tf.split(1, self.max_time, word_weights)]\n",
    "        seq_loss = tf.nn.seq2seq.sequence_loss_by_example(logits_list,\n",
    "                                                          targets_list,\n",
    "                                                          weights_list)\n",
    "        self.loss = tf.reduce_mean(seq_loss)\n",
    "    \n",
    "    def build_optimizer(self):\n",
    "        self.optimizer = tf.train.AdamOptimizer(learning_rate=self.learning_rate)\n",
    "        self.train_op = self.optimizer.minimize(self.loss)\n",
    "        \n",
    "    def batch_generator(self, x, y, batch_size=64):\n",
    "        # shuffle the data\n",
    "        xy = zip(x,y)\n",
    "        random.shuffle(xy)\n",
    "        x, y = zip(*xy)\n",
    "        \n",
    "        # create minibatches\n",
    "        num_batches = len(y) // batch_size + 1\n",
    "        for batch_i in range(num_batches):\n",
    "            start, end = batch_i*batch_size, (batch_i+1)*batch_size\n",
    "            yield batch_i, x[start:end], y[start:end]\n",
    "    \n",
    "    def fit(self, x, y, n_epoch=1, batch_size=64, **partial_fit_kwargs):\n",
    "        for epoch_i in range(n_epoch):\n",
    "            for batch_i, batch_x, batch_y in self.batch_generator(x, y, batch_size): \n",
    "                loss = self.partial_fit(batch_x, batch_y)\n",
    "                self.print_progress(loss, batch_i, epoch_i)\n",
    "                \n",
    "    def partial_fit(self, x, y, measure_only=False):\n",
    "        x_input, x_weight = zip(*x)\n",
    "        feed_dict = {\n",
    "            self.x_input:x_input,\n",
    "            self.x_weight:x_weight,\n",
    "            self.y_input:y,\n",
    "            self.dropout_keep:1.-self.dropout\n",
    "        }\n",
    "        \n",
    "        if measure_only:\n",
    "            loss = self.session.run(self.loss, feed_dict)\n",
    "        else:\n",
    "            loss, _ = self.session.run([self.loss, self.train_op], feed_dict)\n",
    "        return loss\n",
    "    \n",
    "    def predict(self, x):\n",
    "        x_input, x_weight = zip(*x)\n",
    "        feed_dict = {\n",
    "            self.x_input:x_input,\n",
    "            self.x_weight:x_weight,\n",
    "            self.dropout_keep:1.\n",
    "        }\n",
    "        predictions = self.session.run(self.labels, feed_dict)\n",
    "        return predictions\n",
    "    \n",
    "    def save(self):\n",
    "        pass\n",
    "    \n",
    "    def load(self):\n",
    "        pass"
   ]
  },
  {
   "cell_type": "code",
   "execution_count": 454,
   "metadata": {
    "collapsed": false
   },
   "outputs": [
    {
     "name": "stdout",
     "output_type": "stream",
     "text": [
      "Model Loading... Done\n"
     ]
    },
    {
     "name": "stderr",
     "output_type": "stream",
     "text": [
      "Exception AssertionError: AssertionError(\"Nesting violated for default stack of <type 'weakref'> objects\",) in <bound method InteractiveSession.__del__ of <tensorflow.python.client.session.InteractiveSession object at 0x1341d9c90>> ignored\n"
     ]
    }
   ],
   "source": [
    "tf.reset_default_graph()\n",
    "session = tf.InteractiveSession()\n",
    "\n",
    "params = {\n",
    "    'learning_rate':.001,\n",
    "    'xvocab':xvocab,\n",
    "    'yvocab':yvocab,\n",
    "    'max_time':max_sent_len,\n",
    "    'max_chargrams':max_word_len,\n",
    "    'char_embed_size':50,\n",
    "    'dropout':.0\n",
    "}\n",
    "ner = EntitySegmenter(session, **params)"
   ]
  },
  {
   "cell_type": "code",
   "execution_count": null,
   "metadata": {
    "collapsed": false
   },
   "outputs": [],
   "source": [
    "#ner.fit(zip(train_xs, train_ws), train_ys)"
   ]
  },
  {
   "cell_type": "code",
   "execution_count": null,
   "metadata": {
    "collapsed": true
   },
   "outputs": [],
   "source": [
    "ner.predict(zip(train_xs, train_ws))"
   ]
  },
  {
   "cell_type": "code",
   "execution_count": null,
   "metadata": {
    "collapsed": true
   },
   "outputs": [],
   "source": []
  },
  {
   "cell_type": "code",
   "execution_count": null,
   "metadata": {
    "collapsed": true
   },
   "outputs": [],
   "source": []
  }
 ],
 "metadata": {
  "kernelspec": {
   "display_name": "Python 2",
   "language": "python",
   "name": "python2"
  },
  "language_info": {
   "codemirror_mode": {
    "name": "ipython",
    "version": 2
   },
   "file_extension": ".py",
   "mimetype": "text/x-python",
   "name": "python",
   "nbconvert_exporter": "python",
   "pygments_lexer": "ipython2",
   "version": "2.7.10"
  }
 },
 "nbformat": 4,
 "nbformat_minor": 1
}
