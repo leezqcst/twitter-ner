{
 "cells": [
  {
   "cell_type": "code",
   "execution_count": 1,
   "metadata": {
    "collapsed": false
   },
   "outputs": [
    {
     "name": "stderr",
     "output_type": "stream",
     "text": [
      "/Users/thomaseffland/.virtualenvs/health/lib/python2.7/site-packages/matplotlib/__init__.py:872: UserWarning: axes.color_cycle is deprecated and replaced with axes.prop_cycle; please use the latter.\n",
      "  warnings.warn(self.msg_depr % (key, alt_key))\n"
     ]
    }
   ],
   "source": [
    "import numpy as np\n",
    "import tensorflow as tf\n",
    "import matplotlib.pyplot as plt\n",
    "from matplotlib.patches import Rectangle\n",
    "import itertools\n",
    "import seaborn as sb\n",
    "%matplotlib inline"
   ]
  },
  {
   "cell_type": "code",
   "execution_count": 2,
   "metadata": {
    "collapsed": true
   },
   "outputs": [],
   "source": [
    "data_fname = '../wnut_ner_evaluation/data/train_notypes'\n",
    "xs, ys = [], []\n",
    "with open(data_fname, 'r') as f:\n",
    "    x, y = [], []\n",
    "    for i, line in enumerate(f):\n",
    "        split = line.split()\n",
    "        if split:\n",
    "            x.append(split[0])\n",
    "            y.append(split[1])\n",
    "        else: \n",
    "            xs.append(x)\n",
    "            ys.append(y)\n",
    "            x, y = [], []\n",
    "\n",
    "data_fname = '../wnut_ner_evaluation/data/dev_notypes'\n",
    "dev_xs, dev_ys = [], []\n",
    "with open(data_fname, 'r') as f:\n",
    "    x, y = [], []\n",
    "    for i, line in enumerate(f):\n",
    "        split = line.split()\n",
    "        if split:\n",
    "            x.append(split[0])\n",
    "            y.append(split[1])\n",
    "        else: \n",
    "            dev_xs.append(x)\n",
    "            dev_ys.append(y)\n",
    "            x, y = [], []"
   ]
  },
  {
   "cell_type": "markdown",
   "metadata": {},
   "source": [
    "# Load in original data"
   ]
  },
  {
   "cell_type": "code",
   "execution_count": 3,
   "metadata": {
    "collapsed": true
   },
   "outputs": [],
   "source": [
    "from preprocess import *\n",
    "from vocab import Vocab\n",
    "from evaluation import macro_f1"
   ]
  },
  {
   "cell_type": "code",
   "execution_count": 4,
   "metadata": {
    "collapsed": true
   },
   "outputs": [],
   "source": [
    "\"\"\" A convenience vocabulary wrapper \"\"\"\n",
    "from collections import Counter\n",
    "import numpy as np\n",
    "import numpy.random as npr\n",
    "\n",
    "class Vocab():\n",
    "    def __init__(self, all_tokens=None, min_count=5):\n",
    "        self.min_count=min_count\n",
    "\n",
    "        if all_tokens:\n",
    "            self.use(all_tokens)\n",
    "\n",
    "        self.make_sampling_table()\n",
    "\n",
    "    @property\n",
    "    def n(self):\n",
    "        return self._n\n",
    "\n",
    "    @property\n",
    "    def v(self):\n",
    "        return self._v\n",
    "\n",
    "    @property\n",
    "    def pad(self):\n",
    "        return '<PAD>'\n",
    "\n",
    "    @property\n",
    "    def ipad(self):\n",
    "        return 0\n",
    "\n",
    "    def idx(self, token):\n",
    "        if token in self.vocabset:\n",
    "            return self._vocab2idx[token]\n",
    "        else:\n",
    "            return self._vocab2idx['<UNK>']\n",
    "\n",
    "    def token(self, idx):\n",
    "        if idx in self.idxset:\n",
    "            return self._idx2vocab[idx]\n",
    "        else:\n",
    "            return self._idx2vocab['<UNK>']\n",
    "\n",
    "    def use(self, tokens):\n",
    "        self.count_index = Counter()\n",
    "        self._vocab2idx = {'<PAD>':0,\n",
    "                           '<UNK>':1}\n",
    "        self.add(tokens)\n",
    "\n",
    "    def add(self, tokens):\n",
    "        for token in tokens:\n",
    "            self.count_index[token] += 1\n",
    "        self._vocab2idx.update({token:i+2 for i, (token, count) in enumerate(self.count_index.most_common())\n",
    "                                if count >= self.min_count})\n",
    "        self._idx2vocab = {i:token for token, i in self._vocab2idx.items()}\n",
    "        self.vocabset = set(self._vocab2idx.keys())\n",
    "        self.idxset = set(self._idx2vocab.keys())\n",
    "        self._n = sum( count for count in self.count_index.values() if count >= self.min_count)\n",
    "        self._v = sum( 1 for count in self.count_index.values() if count >= self.min_count) + 2 # <PAD> and <UNK>\n",
    "\n",
    "    def count(self, token):\n",
    "        return self.count_index[token]\n",
    "\n",
    "    def make_sampling_table(self, power_scalar=.75):\n",
    "        # from 0 to V-1, get the frequency\n",
    "        self.vocab_distribution = np.array([ (self.count_index[self._idx2vocab[idx]]/float(self._n))**power_scalar\n",
    "                                    for idx in range(len(self.idxset))])\n",
    "        self.vocab_distribution /= np.sum(self.vocab_distribution)\n",
    "\n",
    "    def sample(self, sample_shape):\n",
    "        # sample a tensor of indices\n",
    "        # by walking up the CDF\n",
    "        # setting each position to the index\n",
    "        # of the word which is the closest\n",
    "        # word with that CDF\n",
    "        sums = np.zeros(sample_shape)\n",
    "        rands = npr.uniform(size=sample_shape)\n",
    "        idxs = np.zeros(sample_shape)\n",
    "        for i in range(len(self.vocab_distribution)):\n",
    "            sums += self.vocab_distribution[i]\n",
    "            idxs[sums <= rands] = i\n",
    "        return idxs.astype(np.int)\n"
   ]
  },
  {
   "cell_type": "markdown",
   "metadata": {},
   "source": [
    "# Word Level Model"
   ]
  },
  {
   "cell_type": "code",
   "execution_count": 5,
   "metadata": {
    "collapsed": false
   },
   "outputs": [
    {
     "name": "stdout",
     "output_type": "stream",
     "text": [
      "46469\n"
     ]
    }
   ],
   "source": [
    "all_words = [ word for x in xs for word in x ]\n",
    "all_labels = [l for y in ys for l in y ]\n",
    "xvocab = Vocab(all_words, min_count=0)\n",
    "yvocab = Vocab(all_labels, min_count=0)\n",
    "print xvocab.n"
   ]
  },
  {
   "cell_type": "code",
   "execution_count": 6,
   "metadata": {
    "collapsed": true
   },
   "outputs": [],
   "source": [
    "# do different weights\n",
    "def label_weights(ys, weight_map):\n",
    "    return [ [ weight_map[t] for t in y] for y in ys ]\n",
    "\n",
    "weight_map = {}\n",
    "for y in yvocab.vocabset:\n",
    "    if y in ['O', '<UNK>']:\n",
    "        weight_map[yvocab.idx(y)] = 1\n",
    "    elif y in ['B', 'I']:\n",
    "        weight_map[yvocab.idx(y)] = 2\n",
    "    else:\n",
    "        weight_map[yvocab.idx(y)] = 0"
   ]
  },
  {
   "cell_type": "code",
   "execution_count": 7,
   "metadata": {
    "collapsed": false
   },
   "outputs": [
    {
     "name": "stdout",
     "output_type": "stream",
     "text": [
      "41\n",
      "2394 1000\n"
     ]
    }
   ],
   "source": [
    "all_xs = xs + dev_xs\n",
    "all_ys = ys + dev_ys\n",
    "\n",
    "all_xs = sequences_to_indices(all_xs, xvocab)\n",
    "all_xs, _, max_time = pad_sequences(all_xs, xvocab.ipad)\n",
    "\n",
    "all_ys = sequences_to_indices(all_ys, yvocab)\n",
    "all_ys, all_ws, _ = pad_sequences(all_ys, yvocab.ipad, weight_map=weight_map)\n",
    "\n",
    "train_xs, test_xs = all_xs[:len(xs)], all_xs[len(xs):]\n",
    "train_ws, test_ws = all_ws[:len(xs)], all_ws[len(xs):]\n",
    "train_ys, test_ys = all_ys[:len(xs)], all_ys[len(xs):]\n",
    "\n",
    "print max_time\n",
    "print len(train_xs), len(test_xs)"
   ]
  },
  {
   "cell_type": "code",
   "execution_count": 8,
   "metadata": {
    "collapsed": false
   },
   "outputs": [
    {
     "name": "stdout",
     "output_type": "stream",
     "text": [
      "['Made', 'it', 'back', 'home', 'to', 'GA', '.', 'It', 'sucks', 'not', 'to', 'be', 'at', 'Disney', 'world', ',', 'but', 'its', 'good', 'to', 'be', 'home', '.', 'Time', 'to', 'start', 'planning', 'the', 'next', 'Disney', 'World', 'trip', '.', '<PAD>', '<PAD>', '<PAD>', '<PAD>', '<PAD>', '<PAD>', '<PAD>', '<PAD>']\n",
      "[2926, 14, 104, 137, 5, 1073, 2, 80, 1287, 58, 5, 28, 27, 1762, 324, 3, 45, 103, 85, 5, 28, 137, 2, 167, 5, 219, 1904, 4, 90, 1762, 1039, 763, 2, 0, 0, 0, 0, 0, 0, 0, 0]\n"
     ]
    }
   ],
   "source": [
    "print index_to_sequence(train_xs[1], xvocab)\n",
    "print train_xs[1]"
   ]
  },
  {
   "cell_type": "code",
   "execution_count": 9,
   "metadata": {
    "collapsed": false
   },
   "outputs": [
    {
     "name": "stdout",
     "output_type": "stream",
     "text": [
      "y :  ['O', 'O', 'O', 'O', 'O', 'B', 'O', 'O', 'O', 'O', 'O', 'O', 'O', 'B', 'I', 'O', 'O', 'O', 'O', 'O', 'O', 'O', 'O', 'O', 'O', 'O', 'O', 'O', 'O', 'B', 'I', 'O', 'O', '<PAD>', '<PAD>', '<PAD>', '<PAD>', '<PAD>', '<PAD>', '<PAD>', '<PAD>']\n",
      "{'I': 4, '<PAD>': 0, 'B': 3, 'O': 2, '<UNK>': 1}\n",
      "y :  [2, 2, 2, 2, 2, 3, 2, 2, 2, 2, 2, 2, 2, 3, 4, 2, 2, 2, 2, 2, 2, 2, 2, 2, 2, 2, 2, 2, 2, 3, 4, 2, 2, 0, 0, 0, 0, 0, 0, 0, 0]\n",
      "w :  [1, 1, 1, 1, 1, 2, 1, 1, 1, 1, 1, 1, 1, 2, 2, 1, 1, 1, 1, 1, 1, 1, 1, 1, 1, 1, 1, 1, 1, 2, 2, 1, 1, 0, 0, 0, 0, 0, 0, 0, 0]\n"
     ]
    }
   ],
   "source": [
    "print \"y : \", index_to_sequence(train_ys[1], yvocab)\n",
    "print yvocab._vocab2idx\n",
    "print \"y : \", train_ys[1]\n",
    "print \"w : \", train_ws[1]"
   ]
  },
  {
   "cell_type": "code",
   "execution_count": 10,
   "metadata": {
    "collapsed": false
   },
   "outputs": [],
   "source": [
    "# from wordner import WordNER\n",
    "\n",
    "from tfmodel import *\n",
    "\n",
    "class WordNER(TFModel):\n",
    "    def build_forward(self):\n",
    "        # inputs\n",
    "        self.x_input = tf.placeholder(tf.int32, [None, self.max_time])\n",
    "        self.x_weight = tf.placeholder(tf.float32, [None, self.max_time])\n",
    "        self.y_input = tf.placeholder(tf.int32, [None, self.max_time])\n",
    "        self.dropout_keep = tf.placeholder(tf.float32)\n",
    "        \n",
    "        # embed and take weighted sum of character grams as word embedding\n",
    "        self.word_vectors = tf.Variable(tf.random_uniform([self.xvocab.v, self.word_embed_size], \n",
    "                                                             -.1, .1, tf.float32))\n",
    "        self.embedded_words = tf.nn.embedding_lookup(self.word_vectors, \n",
    "                                                         self.x_input)\n",
    "        \n",
    "        # split sequences\n",
    "        embedded_list = [ tf.squeeze(t, [1]) for t in tf.split(1, self.max_time, self.embedded_words) ]\n",
    "         \n",
    "        # run GRU on sequence\n",
    "        fw_cell = tf.nn.rnn_cell.GRUCell(self.hidden_size)\n",
    "        outputs, _ = tf.nn.rnn(fw_cell, embedded_list, dtype=tf.float32)\n",
    "        \n",
    "        # softmax layer\n",
    "        self.W = tf.Variable(tf.random_uniform([self.hidden_size, self.yvocab.v], \n",
    "                                              -.1, .1, tf.float32))\n",
    "        self.b = tf.Variable(tf.zeros([self.yvocab.v]))\n",
    "        \n",
    "        self.logits = [ tf.matmul(output, self.W) + self.b for output in outputs ]\n",
    "        self.labels = [ tf.argmax(logit, 1) for logit in self.logits ]\n",
    "        \n",
    "    def build_loss(self):\n",
    "        # convert logits to lists\n",
    "        targets = [tf.squeeze(t, [1]) for t in tf.split(1, self.max_time, self.y_input)]\n",
    "        weights = [tf.squeeze(t, [1]) for t in tf.split(1, self.max_time, self.x_weight)]\n",
    "        seq_loss = tf.nn.seq2seq.sequence_loss_by_example(self.logits,\n",
    "                                                          targets,\n",
    "                                                          weights)\n",
    "        self.loss = tf.reduce_mean(seq_loss)\n",
    "    \n",
    "    def build_optimizer(self):\n",
    "        self.optimizer = tf.train.AdamOptimizer(learning_rate=self.learning_rate)\n",
    "        self.train_op = self.optimizer.minimize(self.loss)\n",
    "        \n",
    "    def partial_fit(self, x, y, measure_only=False):\n",
    "        x_input, x_weight = zip(*x)\n",
    "        feed_dict = {\n",
    "            self.x_input:x_input,\n",
    "            self.x_weight:x_weight,\n",
    "            self.y_input:y,\n",
    "            self.dropout_keep:1.-self.dropout\n",
    "        }\n",
    "        \n",
    "        if measure_only:\n",
    "            loss = self.session.run(self.loss, feed_dict)\n",
    "        else:\n",
    "            loss, _ = self.session.run([self.loss, self.train_op], feed_dict)\n",
    "        return loss\n",
    "    \n",
    "    def predict(self, x):\n",
    "        x_input, x_weight = zip(*x)\n",
    "        feed_dict = {\n",
    "            self.x_input:x_input,\n",
    "            self.x_weight:x_weight,\n",
    "            self.dropout_keep:1.\n",
    "        }\n",
    "        predictions = self.session.run(self.labels, feed_dict)\n",
    "        return predictions"
   ]
  },
  {
   "cell_type": "code",
   "execution_count": 11,
   "metadata": {
    "collapsed": false
   },
   "outputs": [
    {
     "name": "stdout",
     "output_type": "stream",
     "text": [
      "Model Loading... Done\n"
     ]
    }
   ],
   "source": [
    "tf.reset_default_graph()\n",
    "session = tf.InteractiveSession()\n",
    "\n",
    "params = {\n",
    "    'learning_rate':.001,\n",
    "    'xvocab':xvocab,\n",
    "    'yvocab':yvocab,\n",
    "    'max_time':max_time,\n",
    "    'word_embed_size':50,\n",
    "    'hidden_size':50,\n",
    "    'dropout':.25\n",
    "}\n",
    "ner = WordNER(session, **params)"
   ]
  },
  {
   "cell_type": "code",
   "execution_count": 12,
   "metadata": {
    "collapsed": false
   },
   "outputs": [
    {
     "name": "stdout",
     "output_type": "stream",
     "text": [
      "\n",
      " Epoch 1/10 : Batch 38/38: Loss 0.4656\n",
      " Epoch 2/10 : Batch 38/38: Loss 0.5088\n",
      " Epoch 3/10 : Batch 38/38: Loss 0.3514\n",
      " Epoch 4/10 : Batch 38/38: Loss 0.3410\n",
      " Epoch 5/10 : Batch 38/38: Loss 0.2183\n",
      " Epoch 6/10 : Batch 38/38: Loss 0.2164\n",
      " Epoch 7/10 : Batch 38/38: Loss 0.2087\n",
      " Epoch 8/10 : Batch 38/38: Loss 0.1311\n",
      " Epoch 9/10 : Batch 38/38: Loss 0.2159\n",
      " Epoch 10/10 : Batch 38/38: Loss 0.0745\n"
     ]
    }
   ],
   "source": [
    "ner.fit(zip(train_xs, train_ws), train_ys, batch_size=64, n_epoch=10)"
   ]
  },
  {
   "cell_type": "code",
   "execution_count": 13,
   "metadata": {
    "collapsed": false
   },
   "outputs": [],
   "source": [
    "preds = ner.predict(zip(test_xs, test_ws))"
   ]
  },
  {
   "cell_type": "code",
   "execution_count": 14,
   "metadata": {
    "collapsed": true
   },
   "outputs": [],
   "source": [
    "target_ys = depad_sequences(test_ys, yvocab.ipad)\n",
    "predictions = depad_sequences(preds, yvocab.ipad)"
   ]
  },
  {
   "cell_type": "code",
   "execution_count": 15,
   "metadata": {
    "collapsed": true
   },
   "outputs": [],
   "source": [
    "flat_targets = [ yvocab.token(t) for y in target_ys for t in y ]\n",
    "flat_predictions = [ yvocab.token(p) for y in predictions for p in y ]"
   ]
  },
  {
   "cell_type": "code",
   "execution_count": 16,
   "metadata": {
    "collapsed": false
   },
   "outputs": [],
   "source": [
    "stats = macro_f1(flat_targets, flat_predictions)"
   ]
  },
  {
   "cell_type": "code",
   "execution_count": 17,
   "metadata": {
    "collapsed": false
   },
   "outputs": [
    {
     "name": "stdout",
     "output_type": "stream",
     "text": [
      "{'macro_recall': 0.33088844831206593, 'macro_f1': 0.3260214675861916, 'macro_precision': 0.32578279357940376, 'scores': {'I': {'recall': 0.01284796573875803, 'support': 467, 'precision': 0.025423728813559324, 'f1': 0.01706970128022715}, 'B': {'recall': 0.006051437216338881, 'support': 661, 'precision': 0.021621621621621623, 'f1': 0.009456264775413371}, 'O': {'recall': 0.9737659419811009, 'support': 15133, 'precision': 0.9303030303030303, 'f1': 0.9515384367029343}}}\n"
     ]
    }
   ],
   "source": [
    "print stats"
   ]
  },
  {
   "cell_type": "code",
   "execution_count": 18,
   "metadata": {
    "collapsed": false
   },
   "outputs": [
    {
     "name": "stderr",
     "output_type": "stream",
     "text": [
      "/Users/thomaseffland/.virtualenvs/health/lib/python2.7/site-packages/matplotlib/__init__.py:892: UserWarning: axes.color_cycle is deprecated and replaced with axes.prop_cycle; please use the latter.\n",
      "  warnings.warn(self.msg_depr % (key, alt_key))\n"
     ]
    },
    {
     "data": {
      "image/png": "[encoded data removed]",
      "text/plain": [
       "<matplotlib.figure.Figure at 0x11232ef10>"
      ]
     },
     "metadata": {},
     "output_type": "display_data"
    }
   ],
   "source": [
    "def plot_f1_stats(stats, bar_width=.25, colors=[], figsize=(12,6), title='F1 Stats'):\n",
    "    # get colors if not explicit\n",
    "    if not colors:\n",
    "        palette = itertools.cycle(sb.color_palette())\n",
    "        for i in range(3):\n",
    "            colors.append(next(palette))\n",
    "\n",
    "    # unpack the stats\n",
    "    precisions = [ stat['precision'] for key, stat in stats['scores'].items() if key not in ['<UNK>', '<PAD>'] ]\n",
    "    recalls = [ stat['recall'] for key, stat in stats['scores'].items() if key not in ['<UNK>', '<PAD>'] ]\n",
    "    f1s = [ stat['f1'] for key, stat in stats['scores'].items() if key not in ['<UNK>', '<PAD>'] ]\n",
    "    supports = [ stat['support'] for key, stat in stats['scores'].items() if key not in ['<UNK>', '<PAD>'] ]\n",
    "    labels = [ '{}\\nSupport={}'.format(label, support) \n",
    "              for label, support in zip(stats['scores'].keys(), supports) \n",
    "              if label not in ['<UNK>', '<PAD>']]\n",
    "\n",
    "    \n",
    "    # create the plot\n",
    "    L = len([ label for label in stats['scores'].keys() if label not in ['<UNK>', '<PAD>'] ])\n",
    "    idxs = np.arange(L)\n",
    "    fig, ax = plt.subplots(figsize=figsize)\n",
    "    \n",
    "    # shrink actual plot 80% to left\n",
    "    #box = ax.get_position()\n",
    "    #ax.set_position([box.x0, box.y0, box.width, box.height* .9])\n",
    "    \n",
    "    # create bars\n",
    "    prec_rects = ax.bar(idxs - bar_width, precisions, bar_width, color=colors[0])\n",
    "    recall_rects = ax.bar(idxs, recalls, bar_width, color=colors[1])\n",
    "    f1_rects = ax.bar(idxs + bar_width, f1s, bar_width, color=colors[2])\n",
    "    \n",
    "    # label the bars\n",
    "    def autolabel(rects):\n",
    "        for rect in rects:\n",
    "            height = rect.get_height()\n",
    "            if height < .9:\n",
    "                rel_y = 1.05 * height \n",
    "                color = 'k'\n",
    "            else:\n",
    "                rel_y = .95 * height\n",
    "                color = 'w'\n",
    "            ax.text(rect.get_x() + rect.get_width()/2., rel_y,\n",
    "                    '{0:.2f}'.format(height),\n",
    "                    ha='center', va='bottom',\n",
    "                    color=color)\n",
    "    autolabel(prec_rects)\n",
    "    autolabel(recall_rects)\n",
    "    autolabel(f1_rects)\n",
    "    \n",
    "    # set ticks and labels\n",
    "    ax.set_ylabel('Score', size=14)\n",
    "    ax.set_yticks(.1 * np.arange(11))\n",
    "    \n",
    "    ax.set_xlabel('F1 Stats Per Label', size=14)\n",
    "    ax.set_xticks(idxs +.5*bar_width)\n",
    "    ax.set_xticklabels(labels)\n",
    "    ax.xaxis.grid(False)\n",
    "    ax.set_xlim(-2*bar_width, L-bar_width)\n",
    "    \n",
    "   \n",
    "    \n",
    "    # create the legend on top 10%\n",
    "    ax.legend([prec_rects[0], recall_rects[0], f1_rects[0]],\n",
    "              ['Precision', 'Recall', 'F1'], loc='best', fontsize=14)\n",
    "\n",
    "    # create title and macro stats\n",
    "    macro_labels = \", \".join(['Macro F1: {0:.2f}'.format(stats['macro_f1']),\n",
    "                    'Macro Recall: {0:.2f}'.format(stats['macro_recall']),\n",
    "                    'Macro Precision: {0:.2f}'.format(stats['macro_precision'])])\n",
    "    ax.set_title(title+'\\n'+macro_labels, size=16)\n",
    "    \n",
    "     \n",
    "plot_f1_stats(stats)"
   ]
  },
  {
   "cell_type": "code",
   "execution_count": null,
   "metadata": {
    "collapsed": true
   },
   "outputs": [],
   "source": []
  },
  {
   "cell_type": "code",
   "execution_count": null,
   "metadata": {
    "collapsed": true
   },
   "outputs": [],
   "source": []
  }
 ],
 "metadata": {
  "kernelspec": {
   "display_name": "Python 2",
   "language": "python",
   "name": "python2"
  },
  "language_info": {
   "codemirror_mode": {
    "name": "ipython",
    "version": 2
   },
   "file_extension": ".py",
   "mimetype": "text/x-python",
   "name": "python",
   "nbconvert_exporter": "python",
   "pygments_lexer": "ipython2",
   "version": "2.7.10"
  }
 },
 "nbformat": 4,
 "nbformat_minor": 1
}
