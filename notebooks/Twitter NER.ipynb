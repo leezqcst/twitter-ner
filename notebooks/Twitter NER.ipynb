{
 "cells": [
  {
   "cell_type": "code",
   "execution_count": 1,
   "metadata": {
    "collapsed": false
   },
   "outputs": [],
   "source": [
    "import tensorflow as tf"
   ]
  },
  {
   "cell_type": "markdown",
   "metadata": {},
   "source": [
    "# Load in original data"
   ]
  },
  {
   "cell_type": "code",
   "execution_count": 2,
   "metadata": {
    "collapsed": true
   },
   "outputs": [],
   "source": [
    "data_fname = '../wnut_ner_evaluation/data/train_notypes'\n",
    "xs, ys = [], []\n",
    "with open(data_fname, 'r') as f:\n",
    "    x, y = [], []\n",
    "    for i, line in enumerate(f):\n",
    "        split = line.split()\n",
    "        if split:\n",
    "            x.append(split[0])\n",
    "            y.append(split[1])\n",
    "        else: \n",
    "            xs.append(x)\n",
    "            ys.append(y)\n",
    "            x, y = [], []\n",
    "\n",
    "data_fname = '../wnut_ner_evaluation/data/dev_notypes'\n",
    "dev_xs, dev_ys = [], []\n",
    "with open(data_fname, 'r') as f:\n",
    "    x, y = [], []\n",
    "    for i, line in enumerate(f):\n",
    "        split = line.split()\n",
    "        if split:\n",
    "            x.append(split[0])\n",
    "            y.append(split[1])\n",
    "        else: \n",
    "            dev_xs.append(x)\n",
    "            dev_ys.append(y)\n",
    "            x, y = [], []"
   ]
  },
  {
   "cell_type": "code",
   "execution_count": 3,
   "metadata": {
    "collapsed": true
   },
   "outputs": [],
   "source": [
    "from preprocess import *\n",
    "from vocab import Vocab\n",
    "from evaluation import macro_f1"
   ]
  },
  {
   "cell_type": "markdown",
   "metadata": {},
   "source": [
    "# Word Level Model"
   ]
  },
  {
   "cell_type": "code",
   "execution_count": 4,
   "metadata": {
    "collapsed": false
   },
   "outputs": [],
   "source": [
    "# all_words = [ word for x in xs for word in x ]\n",
    "# all_labels = [l for y in ys for l in y ]\n",
    "# xvocab = Vocab(all_words, min_count=0)\n",
    "# yvocab = Vocab(all_labels, min_count=0)\n",
    "# print xvocab.n"
   ]
  },
  {
   "cell_type": "code",
   "execution_count": 5,
   "metadata": {
    "collapsed": false
   },
   "outputs": [],
   "source": [
    "# all_xs = xs + dev_xs\n",
    "# all_ys = ys + dev_ys\n",
    "\n",
    "# all_xs = sequences_to_index(all_xs, xvocab)\n",
    "# all_xs, all_ws, max_time = pad_sequences(all_xs, xvocab.ipad)\n",
    "# all_ys = sequences_to_index(all_ys, yvocab)\n",
    "# all_ys, _, _ = pad_sequences(all_ys, yvocab.ipad)\n",
    "\n",
    "# train_xs, test_xs = all_xs[:len(xs)], all_xs[len(xs):]\n",
    "# train_ws, test_ws = all_ws[:len(xs)], all_ws[len(xs):]\n",
    "# train_ys, test_ys = all_ys[:len(xs)], all_ys[len(xs):]\n",
    "\n",
    "# print max_time\n",
    "# print len(train_xs), len(test_xs)"
   ]
  },
  {
   "cell_type": "code",
   "execution_count": 6,
   "metadata": {
    "collapsed": false
   },
   "outputs": [],
   "source": [
    "# print train_xs[0]\n",
    "# print train_ws[0]\n",
    "# print train_ys[0]"
   ]
  },
  {
   "cell_type": "code",
   "execution_count": 7,
   "metadata": {
    "collapsed": true
   },
   "outputs": [],
   "source": [
    "# from wordner import WordNER"
   ]
  },
  {
   "cell_type": "code",
   "execution_count": 8,
   "metadata": {
    "collapsed": false
   },
   "outputs": [],
   "source": [
    "# tf.reset_default_graph()\n",
    "# session = tf.InteractiveSession()\n",
    "\n",
    "# params = {\n",
    "#     'learning_rate':.001,\n",
    "#     'xvocab':xvocab,\n",
    "#     'yvocab':yvocab,\n",
    "#     'max_time':max_time,\n",
    "#     'word_embed_size':50,\n",
    "#     'hidden_size':100,\n",
    "#     'dropout':.0\n",
    "# }\n",
    "# ner = WordNER(session, **params)"
   ]
  },
  {
   "cell_type": "code",
   "execution_count": 9,
   "metadata": {
    "collapsed": false
   },
   "outputs": [],
   "source": [
    "# ner.fit(zip(train_xs, train_ws), train_ys, batch_size=64, n_epoch=5)"
   ]
  },
  {
   "cell_type": "code",
   "execution_count": 10,
   "metadata": {
    "collapsed": true
   },
   "outputs": [],
   "source": [
    "# preds = ner.predict(zip(test_xs, test_ws))\n",
    "# preds = preds.tolist()"
   ]
  },
  {
   "cell_type": "code",
   "execution_count": 11,
   "metadata": {
    "collapsed": true
   },
   "outputs": [],
   "source": [
    "# target_ys = depad_sequences(test_ys, yvocab.ipad)\n",
    "# predictions = depad_sequences(preds, test_ws)"
   ]
  },
  {
   "cell_type": "code",
   "execution_count": 12,
   "metadata": {
    "collapsed": false
   },
   "outputs": [],
   "source": [
    "# flat_targets = [ yvocab.token(t) for y in target_ys for t in y ]\n",
    "# flat_predictions = [ yvocab.token(p) for y in predictions for p in y ]\n",
    "# stats = macro_f1(flat_targets, flat_predictions)"
   ]
  },
  {
   "cell_type": "code",
   "execution_count": 13,
   "metadata": {
    "collapsed": false
   },
   "outputs": [],
   "source": [
    "# print stats"
   ]
  },
  {
   "cell_type": "markdown",
   "metadata": {},
   "source": [
    "# Character Level Model"
   ]
  },
  {
   "cell_type": "code",
   "execution_count": 14,
   "metadata": {
    "collapsed": false
   },
   "outputs": [
    {
     "name": "stdout",
     "output_type": "stream",
     "text": [
      "286687\n"
     ]
    }
   ],
   "source": [
    "all_chargrams = [ c for x in xs for g in chargrams(x) for c in g ]\n",
    "xvocab = Vocab(all_chargrams, min_count=0)\n",
    "yvocab = Vocab([l for y in ys for l in y ], min_count=0)\n",
    "print xvocab.n"
   ]
  },
  {
   "cell_type": "code",
   "execution_count": 15,
   "metadata": {
    "collapsed": false
   },
   "outputs": [
    {
     "name": "stdout",
     "output_type": "stream",
     "text": [
      "5\n",
      "set(['I', 'B', 'O'])\n",
      "41 123\n",
      "2394 1000\n"
     ]
    }
   ],
   "source": [
    "all_xs = xs + dev_xs\n",
    "all_ys = ys + dev_ys\n",
    "print yvocab.v\n",
    "print set([ y for ys in all_ys for y in ys])\n",
    "\n",
    "all_xs, all_ws = sentences_to_chargrams(all_xs, xvocab)\n",
    "all_xs, all_ws, max_time, max_chargrams = pad_chargrams(all_xs, all_ws, xvocab.ipad)\n",
    "all_ys = sequences_to_indices(all_ys, yvocab)\n",
    "all_ys, _, _ = pad_sequences(all_ys, yvocab.ipad)\n",
    "\n",
    "train_xs, test_xs = all_xs[:len(xs)], all_xs[len(xs):]\n",
    "train_ws, test_ws = all_ws[:len(xs)], all_ws[len(xs):]\n",
    "train_ys, test_ys = all_ys[:len(xs)], all_ys[len(xs):]\n",
    "\n",
    "print max_time, max_chargrams\n",
    "print len(train_xs), len(test_xs)"
   ]
  },
  {
   "cell_type": "code",
   "execution_count": 16,
   "metadata": {
    "collapsed": false
   },
   "outputs": [
    {
     "name": "stdout",
     "output_type": "stream",
     "text": [
      "set([0, 1, 2, 3])\n"
     ]
    }
   ],
   "source": [
    "print set([ y for ys in all_ys for y in ys])"
   ]
  },
  {
   "cell_type": "code",
   "execution_count": 17,
   "metadata": {
    "collapsed": false
   },
   "outputs": [
    {
     "name": "stdout",
     "output_type": "stream",
     "text": [
      "{'I': 3, '<PAD>': 0, 'B': 2, 'O': 1, '<UNK>': 1}\n",
      "5\n"
     ]
    }
   ],
   "source": [
    "print yvocab._vocab2idx\n",
    "print yvocab.v"
   ]
  },
  {
   "cell_type": "code",
   "execution_count": 18,
   "metadata": {
    "collapsed": false
   },
   "outputs": [],
   "source": [
    "#from charner import ChargramNER\n",
    "from tfmodel import *\n",
    "\n",
    "class ChargramNER(TFModel):\n",
    "    def build_forward(self):\n",
    "        # inputs\n",
    "        self.x_input = tf.placeholder(tf.int32, [None, self.max_time, self.max_chargrams])\n",
    "        self.x_weight = tf.placeholder(tf.float32, [None, self.max_time, self.max_chargrams])\n",
    "        self.y_input = tf.placeholder(tf.int32, [None, self.max_time])\n",
    "        self.dropout_keep = tf.placeholder(tf.float32)\n",
    "        \n",
    "        # embed and take weighted sum of character grams as word embedding\n",
    "        self.chargram_vectors = tf.Variable(tf.random_uniform([self.xvocab.v, self.char_embed_size], \n",
    "                                                             -.1, .1, tf.float32))\n",
    "        self.embedded_chargrams = tf.nn.embedding_lookup(self.chargram_vectors, \n",
    "                                                         self.x_input)\n",
    "        tile_weights = tf.tile(tf.expand_dims(self.x_weight, [3]), [1,1,1,self.char_embed_size])\n",
    "        self.embedded_words = tf.reduce_sum(tile_weights * self.embedded_chargrams, [2])\n",
    "        \n",
    "        # convert sequences to list of timesteps\n",
    "        self.rnn_inputs = [ tf.squeeze(i, [1]) for i in tf.split(1, self.max_time, self.embedded_words) ]\n",
    "        \n",
    "        # bidirectional encoder\n",
    "        fw_cell = tf.nn.rnn_cell.GRUCell(self.hidden_size)\n",
    "        bw_cell = tf.nn.rnn_cell.GRUCell(self.hidden_size)\n",
    "        outputs, _, _ = tf.nn.bidirectional_rnn(fw_cell, bw_cell,\n",
    "                                                self.rnn_inputs,\n",
    "                                                dtype=tf.float32)\n",
    "    \n",
    "        # hidden layer\n",
    "#         self.Wh = tf.Variable(tf.random_uniform([self.char_embed_size, self.hidden_size], \n",
    "#                                               -.1, .1, tf.float32))\n",
    "#         self.bh = tf.Variable(tf.zeros([self.hidden_size]))\n",
    "#         hidden = tf.matmul(tf.reshape(self.embedded_words, [-1, self.char_embed_size]), self.Wh) + self.bh\n",
    "#         hidden = tf.nn.relu(hidden)\n",
    "        \n",
    "        # softmax layer\n",
    "        self.W = tf.Variable(tf.random_uniform([2*self.hidden_size, self.yvocab.v], \n",
    "                                              -.1, .1, tf.float32))\n",
    "        self.b = tf.Variable(tf.zeros([self.yvocab.v]))\n",
    "        \n",
    "        self.logits = [ tf.matmul(output, self.W) + self.b for output in outputs ]     \n",
    "        print len(self.logits), self.logits[0].get_shape()\n",
    "        self.labels = [ tf.argmax(logit, 1) for logit in self.logits ]\n",
    "        \n",
    "    def build_loss(self):\n",
    "        word_weights = tf.minimum(tf.reduce_sum(self.x_weight, [2]), 1.)\n",
    "        # convert logits to lists\n",
    "        #logits_list = [tf.squeeze(t, [1]) for t in tf.split(1, self.max_time, self.logits)]\n",
    "        targets_list = [tf.squeeze(t, [1]) for t in tf.split(1, self.max_time, self.y_input)]\n",
    "        weights_list = [tf.squeeze(t, [1]) for t in tf.split(1, self.max_time, word_weights)]\n",
    "        seq_loss = tf.nn.seq2seq.sequence_loss_by_example(self.logits,\n",
    "                                                          targets_list,\n",
    "                                                          weights_list)\n",
    "        self.loss = tf.reduce_mean(seq_loss)\n",
    "    \n",
    "    def build_optimizer(self):\n",
    "        self.optimizer = tf.train.AdamOptimizer(learning_rate=self.learning_rate)\n",
    "        self.train_op = self.optimizer.minimize(self.loss)\n",
    "\n",
    "    def partial_fit(self, x, y, measure_only=False):\n",
    "        x_input, x_weight = zip(*x)\n",
    "        feed_dict = {\n",
    "            self.x_input:x_input,\n",
    "            self.x_weight:x_weight,\n",
    "            self.y_input:y,\n",
    "            self.dropout_keep:1.-self.dropout\n",
    "        }\n",
    "        \n",
    "        if measure_only:\n",
    "            loss = self.session.run(self.loss, feed_dict)\n",
    "        else:\n",
    "            loss, _ = self.session.run([self.loss, self.train_op], feed_dict)\n",
    "        return loss\n",
    "    \n",
    "    def predict(self, x):\n",
    "        x_input, x_weight = zip(*x)\n",
    "        feed_dict = {\n",
    "            self.x_input:x_input,\n",
    "            self.x_weight:x_weight,\n",
    "            self.dropout_keep:1.\n",
    "        }\n",
    "        predictions = self.session.run(self.labels, feed_dict)\n",
    "        return predictions"
   ]
  },
  {
   "cell_type": "code",
   "execution_count": 19,
   "metadata": {
    "collapsed": false
   },
   "outputs": [
    {
     "name": "stdout",
     "output_type": "stream",
     "text": [
      "Model Loading... 41 (?, 5)\n",
      "Done\n"
     ]
    }
   ],
   "source": [
    "tf.reset_default_graph()\n",
    "session = tf.InteractiveSession()\n",
    "\n",
    "params = {\n",
    "    'learning_rate':.001,\n",
    "    'xvocab':xvocab,\n",
    "    'yvocab':yvocab,\n",
    "    'max_time':max_time,\n",
    "    'max_chargrams':max_chargrams,\n",
    "    'char_embed_size':50,\n",
    "    'hidden_size':100,\n",
    "    'dropout':.0\n",
    "}\n",
    "ner = ChargramNER(session, **params)"
   ]
  },
  {
   "cell_type": "code",
   "execution_count": 20,
   "metadata": {
    "collapsed": false
   },
   "outputs": [
    {
     "name": "stdout",
     "output_type": "stream",
     "text": [
      "\n",
      " Epoch 1/5 : Batch 38/38: Loss 0.3032\n",
      " Epoch 2/5 : Batch 38/38: Loss 0.2519\n",
      " Epoch 3/5 : Batch 38/38: Loss 0.2043\n",
      " Epoch 4/5 : Batch 38/38: Loss 0.1395\n",
      " Epoch 5/5 : Batch 38/38: Loss 0.0608\n"
     ]
    }
   ],
   "source": [
    "ner.fit(zip(train_xs, train_ws), train_ys, batch_size=64, n_epoch=5)"
   ]
  },
  {
   "cell_type": "code",
   "execution_count": 20,
   "metadata": {
    "collapsed": true
   },
   "outputs": [],
   "source": [
    "preds = ner.predict(zip(test_xs, test_ws))\n",
    "preds = preds.tolist()"
   ]
  },
  {
   "cell_type": "code",
   "execution_count": 21,
   "metadata": {
    "collapsed": true
   },
   "outputs": [],
   "source": [
    "target_ys = depad_sequences(test_ys, yvocab.ipad)\n",
    "predictions = depad_sequences(preds, test_ws)"
   ]
  },
  {
   "cell_type": "code",
   "execution_count": 22,
   "metadata": {
    "collapsed": true
   },
   "outputs": [],
   "source": [
    "flat_targets = [ yvocab.token(t) for y in target_ys for t in y ]\n",
    "flat_predictions = [ yvocab.token(p) for y in predictions for p in y ]\n",
    "stats = macro_f1(flat_targets, flat_predictions)"
   ]
  },
  {
   "cell_type": "code",
   "execution_count": 23,
   "metadata": {
    "collapsed": false
   },
   "outputs": [
    {
     "name": "stdout",
     "output_type": "stream",
     "text": [
      "{'macro_recall': 0.33333333333333331, 'macro_f1': 0.32135652247775565, 'macro_precision': 0.31021052415800587, 'scores': {'I': {'recall': 0.0, 'support': 467, 'precision': 0.0, 'f1': 0.0}, 'B': {'recall': 0.0, 'support': 661, 'precision': 0.0, 'f1': 0.0}, 'O': {'recall': 1.0, 'support': 15133, 'precision': 0.9306315724740176, 'f1': 0.964069567433267}}}\n"
     ]
    }
   ],
   "source": [
    "print stats"
   ]
  },
  {
   "cell_type": "code",
   "execution_count": null,
   "metadata": {
    "collapsed": true
   },
   "outputs": [],
   "source": []
  }
 ],
 "metadata": {
  "kernelspec": {
   "display_name": "Python 2",
   "language": "python",
   "name": "python2"
  },
  "language_info": {
   "codemirror_mode": {
    "name": "ipython",
    "version": 2
   },
   "file_extension": ".py",
   "mimetype": "text/x-python",
   "name": "python",
   "nbconvert_exporter": "python",
   "pygments_lexer": "ipython2",
   "version": "2.7.10"
  }
 },
 "nbformat": 4,
 "nbformat_minor": 1
}
