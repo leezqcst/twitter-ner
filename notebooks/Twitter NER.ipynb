{
 "cells": [
  {
   "cell_type": "code",
   "execution_count": 1,
   "metadata": {
    "collapsed": false
   },
   "outputs": [],
   "source": [
    "import tensorflow as tf"
   ]
  },
  {
   "cell_type": "markdown",
   "metadata": {},
   "source": [
    "# Load in original data"
   ]
  },
  {
   "cell_type": "code",
   "execution_count": 2,
   "metadata": {
    "collapsed": true
   },
   "outputs": [],
   "source": [
    "data_fname = '../wnut_ner_evaluation/data/train_notypes'\n",
    "xs, ys = [], []\n",
    "with open(data_fname, 'r') as f:\n",
    "    x, y = [], []\n",
    "    for i, line in enumerate(f):\n",
    "        split = line.split()\n",
    "        if split:\n",
    "            x.append(split[0])\n",
    "            y.append(split[1])\n",
    "        else: \n",
    "            xs.append(x)\n",
    "            ys.append(y)\n",
    "            x, y = [], []\n",
    "\n",
    "data_fname = '../wnut_ner_evaluation/data/dev_notypes'\n",
    "dev_xs, dev_ys = [], []\n",
    "with open(data_fname, 'r') as f:\n",
    "    x, y = [], []\n",
    "    for i, line in enumerate(f):\n",
    "        split = line.split()\n",
    "        if split:\n",
    "            x.append(split[0])\n",
    "            y.append(split[1])\n",
    "        else: \n",
    "            dev_xs.append(x)\n",
    "            dev_ys.append(y)\n",
    "            x, y = [], []"
   ]
  },
  {
   "cell_type": "markdown",
   "metadata": {},
   "source": [
    "# Word Level Model"
   ]
  },
  {
   "cell_type": "code",
   "execution_count": 3,
   "metadata": {
    "collapsed": true
   },
   "outputs": [],
   "source": [
    "from preprocess import *\n",
    "from vocab import Vocab\n",
    "from evaluation import macro_f1"
   ]
  },
  {
   "cell_type": "code",
   "execution_count": 4,
   "metadata": {
    "collapsed": false
   },
   "outputs": [
    {
     "name": "stdout",
     "output_type": "stream",
     "text": [
      "46469\n"
     ]
    }
   ],
   "source": [
    "all_words = [ word for x in xs for word in x ]\n",
    "all_labels = [l for y in ys for l in y ]\n",
    "xvocab = Vocab(all_words, min_count=0)\n",
    "yvocab = Vocab(all_labels, min_count=0)\n",
    "print xvocab.n"
   ]
  },
  {
   "cell_type": "code",
   "execution_count": 5,
   "metadata": {
    "collapsed": false
   },
   "outputs": [
    {
     "name": "stdout",
     "output_type": "stream",
     "text": [
      "41\n",
      "2394 1000\n"
     ]
    }
   ],
   "source": [
    "all_xs = xs + dev_xs\n",
    "all_ys = ys + dev_ys\n",
    "\n",
    "all_xs = sequences_to_index(all_xs, xvocab)\n",
    "all_xs, all_ws, max_time = pad_sequences(all_xs, xvocab.ipad)\n",
    "all_ys = sequences_to_index(all_ys, yvocab)\n",
    "all_ys, _, _ = pad_sequences(all_ys, yvocab.ipad)\n",
    "\n",
    "train_xs, test_xs = all_xs[:len(xs)], all_xs[len(xs):]\n",
    "train_ws, test_ws = all_ws[:len(xs)], all_ws[len(xs):]\n",
    "train_ys, test_ys = all_ys[:len(xs)], all_ys[len(xs):]\n",
    "\n",
    "print max_time\n",
    "print len(train_xs), len(test_xs)"
   ]
  },
  {
   "cell_type": "code",
   "execution_count": 6,
   "metadata": {
    "collapsed": false
   },
   "outputs": [
    {
     "name": "stdout",
     "output_type": "stream",
     "text": [
      "[9115, 5972, 85, 50, 27, 47, 232, 96, 133, 1816, 30, 6666, 0, 0, 0, 0, 0, 0, 0, 0, 0, 0, 0, 0, 0, 0, 0, 0, 0, 0, 0, 0, 0, 0, 0, 0, 0, 0, 0, 0, 0]\n",
      "[1, 1, 1, 1, 1, 1, 1, 1, 1, 1, 1, 1, 0, 0, 0, 0, 0, 0, 0, 0, 0, 0, 0, 0, 0, 0, 0, 0, 0, 0, 0, 0, 0, 0, 0, 0, 0, 0, 0, 0, 0]\n",
      "[1, 1, 1, 1, 1, 1, 1, 1, 1, 1, 1, 1, 0, 0, 0, 0, 0, 0, 0, 0, 0, 0, 0, 0, 0, 0, 0, 0, 0, 0, 0, 0, 0, 0, 0, 0, 0, 0, 0, 0, 0]\n"
     ]
    }
   ],
   "source": [
    "print train_xs[0]\n",
    "print train_ws[0]\n",
    "print train_ys[0]"
   ]
  },
  {
   "cell_type": "code",
   "execution_count": 7,
   "metadata": {
    "collapsed": true
   },
   "outputs": [],
   "source": [
    "from wordner import WordNER"
   ]
  },
  {
   "cell_type": "code",
   "execution_count": 9,
   "metadata": {
    "collapsed": false
   },
   "outputs": [
    {
     "name": "stdout",
     "output_type": "stream",
     "text": [
      " Model Loading... Done\n"
     ]
    }
   ],
   "source": [
    "tf.reset_default_graph()\n",
    "session = tf.InteractiveSession()\n",
    "\n",
    "params = {\n",
    "    'learning_rate':.001,\n",
    "    'xvocab':xvocab,\n",
    "    'yvocab':yvocab,\n",
    "    'max_time':max_time,\n",
    "    'word_embed_size':50,\n",
    "    'hidden_size':100,\n",
    "    'dropout':.0\n",
    "}\n",
    "ner = WordNER(session, **params)"
   ]
  },
  {
   "cell_type": "code",
   "execution_count": 10,
   "metadata": {
    "collapsed": false
   },
   "outputs": [
    {
     "name": "stdout",
     "output_type": "stream",
     "text": [
      "\n",
      " Epoch 1/5 : Batch 38/38: Loss 9.9356\n",
      " Epoch 2/5 : Batch 38/38: Loss 4.1789\n",
      " Epoch 3/5 : Batch 38/38: Loss 1.9030\n",
      " Epoch 4/5 : Batch 38/38: Loss 0.8518\n",
      " Epoch 5/5 : Batch 38/38: Loss 0.4250\n"
     ]
    }
   ],
   "source": [
    "ner.fit(zip(train_xs, train_ws), train_ys, batch_size=64, n_epoch=5)"
   ]
  },
  {
   "cell_type": "code",
   "execution_count": 11,
   "metadata": {
    "collapsed": true
   },
   "outputs": [],
   "source": [
    "preds = ner.predict(zip(test_xs, test_ws))\n",
    "preds = preds.tolist()"
   ]
  },
  {
   "cell_type": "code",
   "execution_count": 12,
   "metadata": {
    "collapsed": true
   },
   "outputs": [],
   "source": [
    "target_ys = depad_sequences(test_ys, yvocab.ipad)\n",
    "predictions = depad_sequences(preds, test_ws)"
   ]
  },
  {
   "cell_type": "code",
   "execution_count": 13,
   "metadata": {
    "collapsed": false
   },
   "outputs": [],
   "source": [
    "flat_targets = [ yvocab.token(t) for y in target_ys for t in y ]\n",
    "flat_predictions = [ yvocab.token(p) for y in predictions for p in y ]\n",
    "stats = macro_f1(flat_targets, flat_predictions)"
   ]
  },
  {
   "cell_type": "code",
   "execution_count": 14,
   "metadata": {
    "collapsed": false
   },
   "outputs": [
    {
     "name": "stdout",
     "output_type": "stream",
     "text": [
      "{'macro_recall': 0.33333333333333331, 'macro_f1': 0.32135652247775565, 'macro_precision': 0.31021052415800587, 'scores': {'I': {'recall': 0.0, 'support': 467, 'precision': 0.0, 'f1': 0.0}, 'B': {'recall': 0.0, 'support': 661, 'precision': 0.0, 'f1': 0.0}, 'O': {'recall': 1.0, 'support': 15133, 'precision': 0.9306315724740176, 'f1': 0.964069567433267}}}\n"
     ]
    }
   ],
   "source": [
    "print stats"
   ]
  },
  {
   "cell_type": "markdown",
   "metadata": {},
   "source": [
    "# Character Level Model"
   ]
  },
  {
   "cell_type": "code",
   "execution_count": 15,
   "metadata": {
    "collapsed": false
   },
   "outputs": [
    {
     "name": "stdout",
     "output_type": "stream",
     "text": [
      "286687\n"
     ]
    }
   ],
   "source": [
    "all_chargrams = [ c for x in xs for g in chargrams(x) for c in g ]\n",
    "xvocab = Vocab(all_chargrams, min_count=0)\n",
    "yvocab = Vocab([l for y in ys for l in y ], min_count=0)\n",
    "print xvocab.n"
   ]
  },
  {
   "cell_type": "code",
   "execution_count": 16,
   "metadata": {
    "collapsed": false
   },
   "outputs": [
    {
     "name": "stdout",
     "output_type": "stream",
     "text": [
      "41 123\n",
      "2394 1000\n"
     ]
    }
   ],
   "source": [
    "all_xs = xs + dev_xs\n",
    "all_ys = ys + dev_ys\n",
    "\n",
    "all_xs, all_ws = sentences_to_chargrams(all_xs, xvocab)\n",
    "all_xs, all_ws, max_time, max_chargrams = pad_chargrams(all_xs, all_ws, xvocab.ipad)\n",
    "all_ys = sequences_to_index(all_ys, yvocab)\n",
    "all_ys, _, _ = pad_sequences(all_ys, yvocab.ipad)\n",
    "\n",
    "train_xs, test_xs = all_xs[:len(xs)], all_xs[len(xs):]\n",
    "train_ws, test_ws = all_ws[:len(xs)], all_ws[len(xs):]\n",
    "train_ys, test_ys = all_ys[:len(xs)], all_ys[len(xs):]\n",
    "\n",
    "print max_time, max_chargrams\n",
    "print len(train_xs), len(test_xs)"
   ]
  },
  {
   "cell_type": "code",
   "execution_count": 17,
   "metadata": {
    "collapsed": true
   },
   "outputs": [],
   "source": [
    "from charner import ChargramNER"
   ]
  },
  {
   "cell_type": "code",
   "execution_count": 18,
   "metadata": {
    "collapsed": false
   },
   "outputs": [
    {
     "name": "stdout",
     "output_type": "stream",
     "text": [
      "Model Loading... Done\n"
     ]
    },
    {
     "name": "stderr",
     "output_type": "stream",
     "text": [
      "Exception AssertionError: AssertionError(\"Nesting violated for default stack of <type 'weakref'> objects\",) in <bound method InteractiveSession.__del__ of <tensorflow.python.client.session.InteractiveSession object at 0x10fac8fd0>> ignored\n"
     ]
    }
   ],
   "source": [
    "tf.reset_default_graph()\n",
    "session = tf.InteractiveSession()\n",
    "\n",
    "params = {\n",
    "    'learning_rate':.001,\n",
    "    'xvocab':xvocab,\n",
    "    'yvocab':yvocab,\n",
    "    'max_time':max_time,\n",
    "    'max_chargrams':max_chargrams,\n",
    "    'char_embed_size':50,\n",
    "    'hidden_size':100,\n",
    "    'dropout':.0\n",
    "}\n",
    "ner = ChargramNER(session, **params)"
   ]
  },
  {
   "cell_type": "code",
   "execution_count": 19,
   "metadata": {
    "collapsed": false
   },
   "outputs": [
    {
     "name": "stdout",
     "output_type": "stream",
     "text": [
      "\n",
      " Epoch 1/5 : Batch 38/38: Loss 2.0062\n",
      " Epoch 2/5 : Batch 38/38: Loss 0.2833\n",
      " Epoch 3/5 : Batch 38/38: Loss 0.2075\n",
      " Epoch 4/5 : Batch 38/38: Loss 0.2057\n",
      " Epoch 5/5 : Batch 38/38: Loss 0.2117\n"
     ]
    }
   ],
   "source": [
    "ner.fit(zip(train_xs, train_ws), train_ys, batch_size=64, n_epoch=5)"
   ]
  },
  {
   "cell_type": "code",
   "execution_count": 20,
   "metadata": {
    "collapsed": true
   },
   "outputs": [],
   "source": [
    "preds = ner.predict(zip(test_xs, test_ws))\n",
    "preds = preds.tolist()"
   ]
  },
  {
   "cell_type": "code",
   "execution_count": 21,
   "metadata": {
    "collapsed": true
   },
   "outputs": [],
   "source": [
    "target_ys = depad_sequences(test_ys, yvocab.ipad)\n",
    "predictions = depad_sequences(preds, test_ws)"
   ]
  },
  {
   "cell_type": "code",
   "execution_count": 22,
   "metadata": {
    "collapsed": true
   },
   "outputs": [],
   "source": [
    "flat_targets = [ yvocab.token(t) for y in target_ys for t in y ]\n",
    "flat_predictions = [ yvocab.token(p) for y in predictions for p in y ]\n",
    "stats = macro_f1(flat_targets, flat_predictions)"
   ]
  },
  {
   "cell_type": "code",
   "execution_count": 23,
   "metadata": {
    "collapsed": false
   },
   "outputs": [
    {
     "name": "stdout",
     "output_type": "stream",
     "text": [
      "{'macro_recall': 0.33333333333333331, 'macro_f1': 0.32135652247775565, 'macro_precision': 0.31021052415800587, 'scores': {'I': {'recall': 0.0, 'support': 467, 'precision': 0.0, 'f1': 0.0}, 'B': {'recall': 0.0, 'support': 661, 'precision': 0.0, 'f1': 0.0}, 'O': {'recall': 1.0, 'support': 15133, 'precision': 0.9306315724740176, 'f1': 0.964069567433267}}}\n"
     ]
    }
   ],
   "source": [
    "print stats"
   ]
  },
  {
   "cell_type": "code",
   "execution_count": null,
   "metadata": {
    "collapsed": true
   },
   "outputs": [],
   "source": []
  }
 ],
 "metadata": {
  "kernelspec": {
   "display_name": "Python 2",
   "language": "python",
   "name": "python2"
  },
  "language_info": {
   "codemirror_mode": {
    "name": "ipython",
    "version": 2
   },
   "file_extension": ".py",
   "mimetype": "text/x-python",
   "name": "python",
   "nbconvert_exporter": "python",
   "pygments_lexer": "ipython2",
   "version": "2.7.10"
  }
 },
 "nbformat": 4,
 "nbformat_minor": 1
}
